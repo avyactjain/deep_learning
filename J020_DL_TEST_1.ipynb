{
  "nbformat": 4,
  "nbformat_minor": 0,
  "metadata": {
    "colab": {
      "name": "DL_testJ014.ipynb",
      "provenance": []
    },
    "kernelspec": {
      "name": "python3",
      "display_name": "Python 3"
    },
    "accelerator": "GPU"
  },
  "cells": [
    {
      "cell_type": "code",
      "metadata": {
        "id": "lyrF5mxUmuEx",
        "colab_type": "code",
        "colab": {
          "base_uri": "https://localhost:8080/",
          "height": 1000
        },
        "outputId": "bc4d69bd-f9f0-4ef0-e218-37eb856128fe"
      },
      "source": [
        "import keras\n",
        "from keras import models\n",
        "from keras.layers import Dense, Dropout\n",
        "from keras.utils import to_categorical\n",
        "from keras.datasets import fashion_mnist\n",
        "from keras.utils.vis_utils import model_to_dot\n",
        "from IPython.display import SVG\n",
        "from keras.datasets import cifar10,cifar100\n",
        "from sklearn.datasets import load_iris\n",
        "NUM_ROWS = 28\n",
        "NUM_COLS = 28\n",
        "NUM_CLASSES = 10\n",
        "BATCH_SIZE = 128\n",
        "EPOCHS = 10\n",
        "\n",
        "# Load data\n",
        "(X_train, y_train), (X_test, y_test) = fashion_mnist.load_data()\n",
        "\n",
        "\n",
        "\n",
        "# Reshape data\n",
        "X_train = X_train.reshape((X_train.shape[0], NUM_ROWS * NUM_COLS))\n",
        "X_train = X_train.astype('float32') / 255\n",
        "X_test = X_test.reshape((X_test.shape[0], NUM_ROWS * NUM_COLS))\n",
        "X_test = X_test.astype('float32') / 255\n",
        "\n",
        "# Categorically encode labels\n",
        "y_train = to_categorical(y_train, NUM_CLASSES)\n",
        "y_test = to_categorical(y_test, NUM_CLASSES)\n",
        "\n",
        "initializer = keras.initializers.glorot_normal(seed=None)\n",
        "# Build neural network\n",
        "model = models.Sequential()\n",
        "model.add(Dense(1024,kernel_initializer=initializer, activation='relu', input_shape=(NUM_ROWS * NUM_COLS,)))\n",
        "model.add(Dense(512, activation='relu'))\n",
        "model.add(Dense(256, activation='relu'))\n",
        "model.add(Dense(256, activation='relu'))\n",
        "model.add(Dense(128, activation='relu'))\n",
        "model.add(Dense(64, activation='relu'))\n",
        "model.add(Dense(10, activation='softmax'))\n",
        "\n",
        "# Compile model\n",
        "model.compile(optimizer='adagrad',\n",
        "              loss='categorical_crossentropy',\n",
        "              metrics=['accuracy'])\n",
        "\n",
        "# Train model\n",
        "history=model.fit(X_train, y_train,\n",
        "          batch_size=256,\n",
        "          epochs=100,\n",
        "          verbose=1,\n",
        "          validation_data=(X_test, y_test))\n",
        "\n",
        "score = model.evaluate(X_test, y_test, verbose=0)\n",
        "print('Test loss:', score[0])\n",
        "print('Test accuracy:', score[1])"
      ],
      "execution_count": 23,
      "outputs": [
        {
          "output_type": "stream",
          "text": [
            "Train on 60000 samples, validate on 10000 samples\n",
            "Epoch 1/100\n",
            "60000/60000 [==============================] - 2s 32us/step - loss: 0.9073 - acc: 0.6957 - val_loss: 0.5608 - val_acc: 0.7853\n",
            "Epoch 2/100\n",
            "60000/60000 [==============================] - 1s 20us/step - loss: 0.4197 - acc: 0.8441 - val_loss: 0.4685 - val_acc: 0.8280\n",
            "Epoch 3/100\n",
            "60000/60000 [==============================] - 1s 21us/step - loss: 0.3544 - acc: 0.8696 - val_loss: 0.4120 - val_acc: 0.8479\n",
            "Epoch 4/100\n",
            "60000/60000 [==============================] - 1s 20us/step - loss: 0.3156 - acc: 0.8829 - val_loss: 0.3769 - val_acc: 0.8610\n",
            "Epoch 5/100\n",
            "60000/60000 [==============================] - 1s 20us/step - loss: 0.2919 - acc: 0.8915 - val_loss: 0.3430 - val_acc: 0.8754\n",
            "Epoch 6/100\n",
            "60000/60000 [==============================] - 1s 20us/step - loss: 0.2740 - acc: 0.8975 - val_loss: 0.3374 - val_acc: 0.8824\n",
            "Epoch 7/100\n",
            "60000/60000 [==============================] - 1s 20us/step - loss: 0.2582 - acc: 0.9040 - val_loss: 0.3761 - val_acc: 0.8580\n",
            "Epoch 8/100\n",
            "60000/60000 [==============================] - 1s 20us/step - loss: 0.2434 - acc: 0.9094 - val_loss: 0.3473 - val_acc: 0.8740\n",
            "Epoch 9/100\n",
            "60000/60000 [==============================] - 1s 20us/step - loss: 0.2305 - acc: 0.9134 - val_loss: 0.3252 - val_acc: 0.8842\n",
            "Epoch 10/100\n",
            "60000/60000 [==============================] - 1s 20us/step - loss: 0.2192 - acc: 0.9174 - val_loss: 0.3513 - val_acc: 0.8742\n",
            "Epoch 11/100\n",
            "60000/60000 [==============================] - 1s 20us/step - loss: 0.2099 - acc: 0.9211 - val_loss: 0.3254 - val_acc: 0.8851\n",
            "Epoch 12/100\n",
            "60000/60000 [==============================] - 1s 20us/step - loss: 0.2001 - acc: 0.9260 - val_loss: 0.3566 - val_acc: 0.8830\n",
            "Epoch 13/100\n",
            "60000/60000 [==============================] - 1s 20us/step - loss: 0.1922 - acc: 0.9283 - val_loss: 0.3338 - val_acc: 0.8914\n",
            "Epoch 14/100\n",
            "60000/60000 [==============================] - 1s 20us/step - loss: 0.1807 - acc: 0.9317 - val_loss: 0.3276 - val_acc: 0.8877\n",
            "Epoch 15/100\n",
            "60000/60000 [==============================] - 1s 20us/step - loss: 0.1733 - acc: 0.9353 - val_loss: 0.4053 - val_acc: 0.8652\n",
            "Epoch 16/100\n",
            "60000/60000 [==============================] - 1s 20us/step - loss: 0.1659 - acc: 0.9379 - val_loss: 0.3221 - val_acc: 0.8963\n",
            "Epoch 17/100\n",
            "60000/60000 [==============================] - 1s 21us/step - loss: 0.1566 - acc: 0.9412 - val_loss: 0.4215 - val_acc: 0.8650\n",
            "Epoch 18/100\n",
            "60000/60000 [==============================] - 1s 20us/step - loss: 0.1488 - acc: 0.9443 - val_loss: 0.3447 - val_acc: 0.8899\n",
            "Epoch 19/100\n",
            "60000/60000 [==============================] - 1s 20us/step - loss: 0.1421 - acc: 0.9471 - val_loss: 0.3915 - val_acc: 0.8876\n",
            "Epoch 20/100\n",
            "60000/60000 [==============================] - 1s 20us/step - loss: 0.1351 - acc: 0.9488 - val_loss: 0.3492 - val_acc: 0.8944\n",
            "Epoch 21/100\n",
            "60000/60000 [==============================] - 1s 20us/step - loss: 0.1297 - acc: 0.9513 - val_loss: 0.4375 - val_acc: 0.8793\n",
            "Epoch 22/100\n",
            "60000/60000 [==============================] - 1s 20us/step - loss: 0.1209 - acc: 0.9550 - val_loss: 0.4323 - val_acc: 0.8851\n",
            "Epoch 23/100\n",
            "60000/60000 [==============================] - 1s 19us/step - loss: 0.1163 - acc: 0.9563 - val_loss: 0.3922 - val_acc: 0.8928\n",
            "Epoch 24/100\n",
            "60000/60000 [==============================] - 1s 20us/step - loss: 0.1141 - acc: 0.9580 - val_loss: 0.3646 - val_acc: 0.8977\n",
            "Epoch 25/100\n",
            "60000/60000 [==============================] - 1s 20us/step - loss: 0.1041 - acc: 0.9610 - val_loss: 0.3914 - val_acc: 0.8878\n",
            "Epoch 26/100\n",
            "60000/60000 [==============================] - 1s 20us/step - loss: 0.0996 - acc: 0.9635 - val_loss: 0.3994 - val_acc: 0.8938\n",
            "Epoch 27/100\n",
            "60000/60000 [==============================] - 1s 20us/step - loss: 0.0935 - acc: 0.9647 - val_loss: 0.3962 - val_acc: 0.8967\n",
            "Epoch 28/100\n",
            "60000/60000 [==============================] - 1s 20us/step - loss: 0.0889 - acc: 0.9671 - val_loss: 0.5425 - val_acc: 0.8712\n",
            "Epoch 29/100\n",
            "60000/60000 [==============================] - 1s 20us/step - loss: 0.0863 - acc: 0.9677 - val_loss: 0.4650 - val_acc: 0.8890\n",
            "Epoch 30/100\n",
            "60000/60000 [==============================] - 1s 20us/step - loss: 0.0805 - acc: 0.9702 - val_loss: 0.4646 - val_acc: 0.8864\n",
            "Epoch 31/100\n",
            "60000/60000 [==============================] - 1s 20us/step - loss: 0.0770 - acc: 0.9707 - val_loss: 0.4555 - val_acc: 0.8915\n",
            "Epoch 32/100\n",
            "60000/60000 [==============================] - 1s 20us/step - loss: 0.0716 - acc: 0.9729 - val_loss: 0.5138 - val_acc: 0.8862\n",
            "Epoch 33/100\n",
            "60000/60000 [==============================] - 1s 20us/step - loss: 0.0677 - acc: 0.9746 - val_loss: 0.4763 - val_acc: 0.8903\n",
            "Epoch 34/100\n",
            "60000/60000 [==============================] - 1s 20us/step - loss: 0.0633 - acc: 0.9770 - val_loss: 0.4530 - val_acc: 0.8939\n",
            "Epoch 35/100\n",
            "60000/60000 [==============================] - 1s 20us/step - loss: 0.0589 - acc: 0.9781 - val_loss: 0.5178 - val_acc: 0.8861\n",
            "Epoch 36/100\n",
            "60000/60000 [==============================] - 1s 20us/step - loss: 0.0583 - acc: 0.9782 - val_loss: 0.5327 - val_acc: 0.8899\n",
            "Epoch 37/100\n",
            "60000/60000 [==============================] - 1s 20us/step - loss: 0.0581 - acc: 0.9798 - val_loss: 0.5454 - val_acc: 0.8886\n",
            "Epoch 38/100\n",
            "60000/60000 [==============================] - 1s 20us/step - loss: 0.0539 - acc: 0.9806 - val_loss: 0.5707 - val_acc: 0.8894\n",
            "Epoch 39/100\n",
            "60000/60000 [==============================] - 1s 20us/step - loss: 0.0476 - acc: 0.9831 - val_loss: 0.5114 - val_acc: 0.8939\n",
            "Epoch 40/100\n",
            "60000/60000 [==============================] - 1s 19us/step - loss: 0.0443 - acc: 0.9843 - val_loss: 0.5519 - val_acc: 0.8971\n",
            "Epoch 41/100\n",
            "60000/60000 [==============================] - 1s 20us/step - loss: 0.0414 - acc: 0.9851 - val_loss: 0.5805 - val_acc: 0.8951\n",
            "Epoch 42/100\n",
            "60000/60000 [==============================] - 1s 20us/step - loss: 0.0386 - acc: 0.9862 - val_loss: 0.5434 - val_acc: 0.8978\n",
            "Epoch 43/100\n",
            "60000/60000 [==============================] - 1s 20us/step - loss: 0.0360 - acc: 0.9871 - val_loss: 0.5719 - val_acc: 0.8946\n",
            "Epoch 44/100\n",
            "60000/60000 [==============================] - 1s 20us/step - loss: 0.0350 - acc: 0.9874 - val_loss: 0.6314 - val_acc: 0.8932\n",
            "Epoch 45/100\n",
            "60000/60000 [==============================] - 1s 20us/step - loss: 0.0331 - acc: 0.9888 - val_loss: 0.6113 - val_acc: 0.8923\n",
            "Epoch 46/100\n",
            "60000/60000 [==============================] - 1s 20us/step - loss: 0.0323 - acc: 0.9889 - val_loss: 0.6226 - val_acc: 0.8906\n",
            "Epoch 47/100\n",
            "60000/60000 [==============================] - 1s 20us/step - loss: 0.0318 - acc: 0.9884 - val_loss: 0.6502 - val_acc: 0.8868\n",
            "Epoch 48/100\n",
            "60000/60000 [==============================] - 1s 20us/step - loss: 0.0280 - acc: 0.9898 - val_loss: 0.6140 - val_acc: 0.8994\n",
            "Epoch 49/100\n",
            "60000/60000 [==============================] - 1s 20us/step - loss: 0.0247 - acc: 0.9914 - val_loss: 0.6510 - val_acc: 0.8932\n",
            "Epoch 50/100\n",
            "60000/60000 [==============================] - 1s 20us/step - loss: 0.0233 - acc: 0.9922 - val_loss: 0.6491 - val_acc: 0.8932\n",
            "Epoch 51/100\n",
            "60000/60000 [==============================] - 1s 20us/step - loss: 0.0199 - acc: 0.9934 - val_loss: 0.6406 - val_acc: 0.8971\n",
            "Epoch 52/100\n",
            "60000/60000 [==============================] - 1s 21us/step - loss: 0.0269 - acc: 0.9905 - val_loss: 0.6789 - val_acc: 0.8875\n",
            "Epoch 53/100\n",
            "60000/60000 [==============================] - 1s 22us/step - loss: 0.0200 - acc: 0.9935 - val_loss: 0.7261 - val_acc: 0.8936\n",
            "Epoch 54/100\n",
            "60000/60000 [==============================] - 1s 21us/step - loss: 0.0184 - acc: 0.9938 - val_loss: 0.7182 - val_acc: 0.8915\n",
            "Epoch 55/100\n",
            "60000/60000 [==============================] - 1s 21us/step - loss: 0.0158 - acc: 0.9950 - val_loss: 0.6864 - val_acc: 0.8974\n",
            "Epoch 56/100\n",
            "60000/60000 [==============================] - 1s 21us/step - loss: 0.0123 - acc: 0.9963 - val_loss: 0.6932 - val_acc: 0.8989\n",
            "Epoch 57/100\n",
            "60000/60000 [==============================] - 1s 20us/step - loss: 0.0212 - acc: 0.9932 - val_loss: 0.6871 - val_acc: 0.8938\n",
            "Epoch 58/100\n",
            "60000/60000 [==============================] - 1s 20us/step - loss: 0.0144 - acc: 0.9952 - val_loss: 0.7012 - val_acc: 0.8974\n",
            "Epoch 59/100\n",
            "60000/60000 [==============================] - 1s 20us/step - loss: 0.0118 - acc: 0.9961 - val_loss: 0.7812 - val_acc: 0.8906\n",
            "Epoch 60/100\n",
            "60000/60000 [==============================] - 1s 21us/step - loss: 0.0109 - acc: 0.9963 - val_loss: 0.7147 - val_acc: 0.8967\n",
            "Epoch 61/100\n",
            "60000/60000 [==============================] - 1s 20us/step - loss: 0.0094 - acc: 0.9971 - val_loss: 0.7368 - val_acc: 0.8965\n",
            "Epoch 62/100\n",
            "60000/60000 [==============================] - 1s 20us/step - loss: 0.0119 - acc: 0.9963 - val_loss: 0.9549 - val_acc: 0.8839\n",
            "Epoch 63/100\n",
            "60000/60000 [==============================] - 1s 20us/step - loss: 0.0200 - acc: 0.9934 - val_loss: 0.7266 - val_acc: 0.8973\n",
            "Epoch 64/100\n",
            "60000/60000 [==============================] - 1s 20us/step - loss: 0.0095 - acc: 0.9971 - val_loss: 0.7268 - val_acc: 0.8947\n",
            "Epoch 65/100\n",
            "60000/60000 [==============================] - 1s 20us/step - loss: 0.0084 - acc: 0.9978 - val_loss: 0.7699 - val_acc: 0.8907\n",
            "Epoch 66/100\n",
            "60000/60000 [==============================] - 1s 20us/step - loss: 0.0079 - acc: 0.9976 - val_loss: 0.7468 - val_acc: 0.8962\n",
            "Epoch 67/100\n",
            "60000/60000 [==============================] - 1s 21us/step - loss: 0.0043 - acc: 0.9989 - val_loss: 0.7782 - val_acc: 0.8964\n",
            "Epoch 68/100\n",
            "60000/60000 [==============================] - 1s 20us/step - loss: 0.0047 - acc: 0.9988 - val_loss: 0.7689 - val_acc: 0.8969\n",
            "Epoch 69/100\n",
            "60000/60000 [==============================] - 1s 19us/step - loss: 0.0306 - acc: 0.9930 - val_loss: 0.6624 - val_acc: 0.8947\n",
            "Epoch 70/100\n",
            "60000/60000 [==============================] - 1s 19us/step - loss: 0.0110 - acc: 0.9968 - val_loss: 0.7083 - val_acc: 0.8993\n",
            "Epoch 71/100\n",
            "60000/60000 [==============================] - 1s 20us/step - loss: 0.0036 - acc: 0.9992 - val_loss: 0.7380 - val_acc: 0.8972\n",
            "Epoch 72/100\n",
            "60000/60000 [==============================] - 1s 20us/step - loss: 0.0027 - acc: 0.9995 - val_loss: 0.7573 - val_acc: 0.8973\n",
            "Epoch 73/100\n",
            "60000/60000 [==============================] - 1s 19us/step - loss: 0.0022 - acc: 0.9996 - val_loss: 0.7729 - val_acc: 0.8972\n",
            "Epoch 74/100\n",
            "60000/60000 [==============================] - 1s 19us/step - loss: 0.0017 - acc: 0.9998 - val_loss: 0.7777 - val_acc: 0.8989\n",
            "Epoch 75/100\n",
            "60000/60000 [==============================] - 1s 19us/step - loss: 0.0013 - acc: 0.9999 - val_loss: 0.7957 - val_acc: 0.8967\n",
            "Epoch 76/100\n",
            "60000/60000 [==============================] - 1s 19us/step - loss: 0.0016 - acc: 0.9998 - val_loss: 0.7935 - val_acc: 0.8988\n",
            "Epoch 77/100\n",
            "60000/60000 [==============================] - 1s 20us/step - loss: 0.0015 - acc: 0.9997 - val_loss: 0.8068 - val_acc: 0.8983\n",
            "Epoch 78/100\n",
            "60000/60000 [==============================] - 1s 20us/step - loss: 0.0012 - acc: 0.9999 - val_loss: 0.8107 - val_acc: 0.8982\n",
            "Epoch 79/100\n",
            "60000/60000 [==============================] - 1s 19us/step - loss: 0.0076 - acc: 0.9980 - val_loss: 0.7967 - val_acc: 0.8892\n",
            "Epoch 80/100\n",
            "60000/60000 [==============================] - 1s 20us/step - loss: 0.0119 - acc: 0.9961 - val_loss: 0.7955 - val_acc: 0.8963\n",
            "Epoch 81/100\n",
            "60000/60000 [==============================] - 1s 19us/step - loss: 0.0023 - acc: 0.9996 - val_loss: 0.7975 - val_acc: 0.8949\n",
            "Epoch 82/100\n",
            "60000/60000 [==============================] - 1s 20us/step - loss: 0.0016 - acc: 0.9997 - val_loss: 0.7971 - val_acc: 0.8961\n",
            "Epoch 83/100\n",
            "60000/60000 [==============================] - 1s 19us/step - loss: 9.7672e-04 - acc: 0.9999 - val_loss: 0.8100 - val_acc: 0.8956\n",
            "Epoch 84/100\n",
            "60000/60000 [==============================] - 1s 20us/step - loss: 6.4211e-04 - acc: 1.0000 - val_loss: 0.8176 - val_acc: 0.8972\n",
            "Epoch 85/100\n",
            "60000/60000 [==============================] - 1s 20us/step - loss: 5.4831e-04 - acc: 1.0000 - val_loss: 0.8270 - val_acc: 0.8976\n",
            "Epoch 86/100\n",
            "60000/60000 [==============================] - 1s 19us/step - loss: 4.7626e-04 - acc: 1.0000 - val_loss: 0.8298 - val_acc: 0.8977\n",
            "Epoch 87/100\n",
            "60000/60000 [==============================] - 1s 20us/step - loss: 4.4225e-04 - acc: 1.0000 - val_loss: 0.8367 - val_acc: 0.8970\n",
            "Epoch 88/100\n",
            "60000/60000 [==============================] - 1s 19us/step - loss: 4.0235e-04 - acc: 1.0000 - val_loss: 0.8404 - val_acc: 0.8972\n",
            "Epoch 89/100\n",
            "60000/60000 [==============================] - 1s 20us/step - loss: 3.5593e-04 - acc: 1.0000 - val_loss: 0.8468 - val_acc: 0.8973\n",
            "Epoch 90/100\n",
            "60000/60000 [==============================] - 1s 20us/step - loss: 3.4033e-04 - acc: 1.0000 - val_loss: 0.8506 - val_acc: 0.8966\n",
            "Epoch 91/100\n",
            "60000/60000 [==============================] - 1s 20us/step - loss: 3.1486e-04 - acc: 1.0000 - val_loss: 0.8522 - val_acc: 0.8971\n",
            "Epoch 92/100\n",
            "60000/60000 [==============================] - 1s 19us/step - loss: 2.8781e-04 - acc: 1.0000 - val_loss: 0.8571 - val_acc: 0.8969\n",
            "Epoch 93/100\n",
            "60000/60000 [==============================] - 1s 20us/step - loss: 2.7516e-04 - acc: 1.0000 - val_loss: 0.8584 - val_acc: 0.8968\n",
            "Epoch 94/100\n",
            "60000/60000 [==============================] - 1s 20us/step - loss: 2.5539e-04 - acc: 1.0000 - val_loss: 0.8635 - val_acc: 0.8967\n",
            "Epoch 95/100\n",
            "60000/60000 [==============================] - 1s 20us/step - loss: 2.5270e-04 - acc: 1.0000 - val_loss: 0.8644 - val_acc: 0.8972\n",
            "Epoch 96/100\n",
            "60000/60000 [==============================] - 1s 20us/step - loss: 2.3093e-04 - acc: 1.0000 - val_loss: 0.8665 - val_acc: 0.8970\n",
            "Epoch 97/100\n",
            "60000/60000 [==============================] - 1s 20us/step - loss: 2.2164e-04 - acc: 1.0000 - val_loss: 0.8705 - val_acc: 0.8970\n",
            "Epoch 98/100\n",
            "60000/60000 [==============================] - 1s 20us/step - loss: 2.1163e-04 - acc: 1.0000 - val_loss: 0.8723 - val_acc: 0.8973\n",
            "Epoch 99/100\n",
            "60000/60000 [==============================] - 1s 20us/step - loss: 2.0194e-04 - acc: 1.0000 - val_loss: 0.8736 - val_acc: 0.8976\n",
            "Epoch 100/100\n",
            "60000/60000 [==============================] - 1s 20us/step - loss: 1.9068e-04 - acc: 1.0000 - val_loss: 0.8770 - val_acc: 0.8974\n",
            "Test loss: 0.8769970735765106\n",
            "Test accuracy: 0.8974\n"
          ],
          "name": "stdout"
        }
      ]
    },
    {
      "cell_type": "code",
      "metadata": {
        "id": "ifQHjOCbuWsB",
        "colab_type": "code",
        "colab": {
          "base_uri": "https://localhost:8080/",
          "height": 391
        },
        "outputId": "fa8e53b8-03ae-4447-914e-7afc3770a766"
      },
      "source": [
        "model.summary()"
      ],
      "execution_count": 24,
      "outputs": [
        {
          "output_type": "stream",
          "text": [
            "Model: \"sequential_9\"\n",
            "_________________________________________________________________\n",
            "Layer (type)                 Output Shape              Param #   \n",
            "=================================================================\n",
            "dense_42 (Dense)             (None, 1024)              803840    \n",
            "_________________________________________________________________\n",
            "dense_43 (Dense)             (None, 512)               524800    \n",
            "_________________________________________________________________\n",
            "dense_44 (Dense)             (None, 256)               131328    \n",
            "_________________________________________________________________\n",
            "dense_45 (Dense)             (None, 256)               65792     \n",
            "_________________________________________________________________\n",
            "dense_46 (Dense)             (None, 128)               32896     \n",
            "_________________________________________________________________\n",
            "dense_47 (Dense)             (None, 64)                8256      \n",
            "_________________________________________________________________\n",
            "dense_48 (Dense)             (None, 10)                650       \n",
            "=================================================================\n",
            "Total params: 1,567,562\n",
            "Trainable params: 1,567,562\n",
            "Non-trainable params: 0\n",
            "_________________________________________________________________\n"
          ],
          "name": "stdout"
        }
      ]
    },
    {
      "cell_type": "code",
      "metadata": {
        "id": "o-Gge4-lmyUc",
        "colab_type": "code",
        "colab": {
          "base_uri": "https://localhost:8080/",
          "height": 1000
        },
        "outputId": "1eca3b44-4558-4886-d2c0-ee03e2aa6d54"
      },
      "source": [
        "SVG(model_to_dot(model).create(prog='dot', format='svg'))"
      ],
      "execution_count": 25,
      "outputs": [
        {
          "output_type": "execute_result",
          "data": {
            "text/plain": [
              "<IPython.core.display.SVG object>"
            ],
            "image/svg+xml": "<svg height=\"741pt\" viewBox=\"0.00 0.00 188.00 556.00\" width=\"251pt\" xmlns=\"http://www.w3.org/2000/svg\" xmlns:xlink=\"http://www.w3.org/1999/xlink\">\n<g class=\"graph\" id=\"graph0\" transform=\"scale(1.3333 1.3333) rotate(0) translate(4 552)\">\n<title>G</title>\n<polygon fill=\"#ffffff\" points=\"-4,4 -4,-552 184,-552 184,4 -4,4\" stroke=\"transparent\"/>\n<!-- 139820120004984 -->\n<g class=\"node\" id=\"node1\">\n<title>139820120004984</title>\n<polygon fill=\"none\" points=\"0,-511.5 0,-547.5 180,-547.5 180,-511.5 0,-511.5\" stroke=\"#000000\"/>\n<text fill=\"#000000\" font-family=\"Times,serif\" font-size=\"14.00\" text-anchor=\"middle\" x=\"90\" y=\"-525.8\">dense_42_input: InputLayer</text>\n</g>\n<!-- 139820120005152 -->\n<g class=\"node\" id=\"node2\">\n<title>139820120005152</title>\n<polygon fill=\"none\" points=\"33,-438.5 33,-474.5 147,-474.5 147,-438.5 33,-438.5\" stroke=\"#000000\"/>\n<text fill=\"#000000\" font-family=\"Times,serif\" font-size=\"14.00\" text-anchor=\"middle\" x=\"90\" y=\"-452.8\">dense_42: Dense</text>\n</g>\n<!-- 139820120004984&#45;&gt;139820120005152 -->\n<g class=\"edge\" id=\"edge1\">\n<title>139820120004984-&gt;139820120005152</title>\n<path d=\"M90,-511.4551C90,-503.3828 90,-493.6764 90,-484.6817\" fill=\"none\" stroke=\"#000000\"/>\n<polygon fill=\"#000000\" points=\"93.5001,-484.5903 90,-474.5904 86.5001,-484.5904 93.5001,-484.5903\" stroke=\"#000000\"/>\n</g>\n<!-- 139822128985704 -->\n<g class=\"node\" id=\"node3\">\n<title>139822128985704</title>\n<polygon fill=\"none\" points=\"33,-365.5 33,-401.5 147,-401.5 147,-365.5 33,-365.5\" stroke=\"#000000\"/>\n<text fill=\"#000000\" font-family=\"Times,serif\" font-size=\"14.00\" text-anchor=\"middle\" x=\"90\" y=\"-379.8\">dense_43: Dense</text>\n</g>\n<!-- 139820120005152&#45;&gt;139822128985704 -->\n<g class=\"edge\" id=\"edge2\">\n<title>139820120005152-&gt;139822128985704</title>\n<path d=\"M90,-438.4551C90,-430.3828 90,-420.6764 90,-411.6817\" fill=\"none\" stroke=\"#000000\"/>\n<polygon fill=\"#000000\" points=\"93.5001,-411.5903 90,-401.5904 86.5001,-411.5904 93.5001,-411.5903\" stroke=\"#000000\"/>\n</g>\n<!-- 139820107226808 -->\n<g class=\"node\" id=\"node4\">\n<title>139820107226808</title>\n<polygon fill=\"none\" points=\"33,-292.5 33,-328.5 147,-328.5 147,-292.5 33,-292.5\" stroke=\"#000000\"/>\n<text fill=\"#000000\" font-family=\"Times,serif\" font-size=\"14.00\" text-anchor=\"middle\" x=\"90\" y=\"-306.8\">dense_44: Dense</text>\n</g>\n<!-- 139822128985704&#45;&gt;139820107226808 -->\n<g class=\"edge\" id=\"edge3\">\n<title>139822128985704-&gt;139820107226808</title>\n<path d=\"M90,-365.4551C90,-357.3828 90,-347.6764 90,-338.6817\" fill=\"none\" stroke=\"#000000\"/>\n<polygon fill=\"#000000\" points=\"93.5001,-338.5903 90,-328.5904 86.5001,-338.5904 93.5001,-338.5903\" stroke=\"#000000\"/>\n</g>\n<!-- 139820107014888 -->\n<g class=\"node\" id=\"node5\">\n<title>139820107014888</title>\n<polygon fill=\"none\" points=\"33,-219.5 33,-255.5 147,-255.5 147,-219.5 33,-219.5\" stroke=\"#000000\"/>\n<text fill=\"#000000\" font-family=\"Times,serif\" font-size=\"14.00\" text-anchor=\"middle\" x=\"90\" y=\"-233.8\">dense_45: Dense</text>\n</g>\n<!-- 139820107226808&#45;&gt;139820107014888 -->\n<g class=\"edge\" id=\"edge4\">\n<title>139820107226808-&gt;139820107014888</title>\n<path d=\"M90,-292.4551C90,-284.3828 90,-274.6764 90,-265.6817\" fill=\"none\" stroke=\"#000000\"/>\n<polygon fill=\"#000000\" points=\"93.5001,-265.5903 90,-255.5904 86.5001,-265.5904 93.5001,-265.5903\" stroke=\"#000000\"/>\n</g>\n<!-- 139820106891048 -->\n<g class=\"node\" id=\"node6\">\n<title>139820106891048</title>\n<polygon fill=\"none\" points=\"33,-146.5 33,-182.5 147,-182.5 147,-146.5 33,-146.5\" stroke=\"#000000\"/>\n<text fill=\"#000000\" font-family=\"Times,serif\" font-size=\"14.00\" text-anchor=\"middle\" x=\"90\" y=\"-160.8\">dense_46: Dense</text>\n</g>\n<!-- 139820107014888&#45;&gt;139820106891048 -->\n<g class=\"edge\" id=\"edge5\">\n<title>139820107014888-&gt;139820106891048</title>\n<path d=\"M90,-219.4551C90,-211.3828 90,-201.6764 90,-192.6817\" fill=\"none\" stroke=\"#000000\"/>\n<polygon fill=\"#000000\" points=\"93.5001,-192.5903 90,-182.5904 86.5001,-192.5904 93.5001,-192.5903\" stroke=\"#000000\"/>\n</g>\n<!-- 139820106858568 -->\n<g class=\"node\" id=\"node7\">\n<title>139820106858568</title>\n<polygon fill=\"none\" points=\"33,-73.5 33,-109.5 147,-109.5 147,-73.5 33,-73.5\" stroke=\"#000000\"/>\n<text fill=\"#000000\" font-family=\"Times,serif\" font-size=\"14.00\" text-anchor=\"middle\" x=\"90\" y=\"-87.8\">dense_47: Dense</text>\n</g>\n<!-- 139820106891048&#45;&gt;139820106858568 -->\n<g class=\"edge\" id=\"edge6\">\n<title>139820106891048-&gt;139820106858568</title>\n<path d=\"M90,-146.4551C90,-138.3828 90,-128.6764 90,-119.6817\" fill=\"none\" stroke=\"#000000\"/>\n<polygon fill=\"#000000\" points=\"93.5001,-119.5903 90,-109.5904 86.5001,-119.5904 93.5001,-119.5903\" stroke=\"#000000\"/>\n</g>\n<!-- 139820111602520 -->\n<g class=\"node\" id=\"node8\">\n<title>139820111602520</title>\n<polygon fill=\"none\" points=\"33,-.5 33,-36.5 147,-36.5 147,-.5 33,-.5\" stroke=\"#000000\"/>\n<text fill=\"#000000\" font-family=\"Times,serif\" font-size=\"14.00\" text-anchor=\"middle\" x=\"90\" y=\"-14.8\">dense_48: Dense</text>\n</g>\n<!-- 139820106858568&#45;&gt;139820111602520 -->\n<g class=\"edge\" id=\"edge7\">\n<title>139820106858568-&gt;139820111602520</title>\n<path d=\"M90,-73.4551C90,-65.3828 90,-55.6764 90,-46.6817\" fill=\"none\" stroke=\"#000000\"/>\n<polygon fill=\"#000000\" points=\"93.5001,-46.5903 90,-36.5904 86.5001,-46.5904 93.5001,-46.5903\" stroke=\"#000000\"/>\n</g>\n</g>\n</svg>"
          },
          "metadata": {
            "tags": []
          },
          "execution_count": 25
        }
      ]
    },
    {
      "cell_type": "code",
      "metadata": {
        "id": "2eiDgv-er-Dq",
        "colab_type": "code",
        "colab": {
          "base_uri": "https://localhost:8080/",
          "height": 573
        },
        "outputId": "997d5d2c-04cd-4397-993b-07e6057c5c55"
      },
      "source": [
        "import matplotlib.pyplot as plt\n",
        "# Plot training & validation accuracy values\n",
        "plt.plot(history.history['acc'])\n",
        "plt.plot(history.history['val_acc'])\n",
        "plt.title('Model accuracy')\n",
        "plt.ylabel('Accuracy')\n",
        "plt.xlabel('Epoch')\n",
        "plt.legend(['Train', 'Test'], loc='upper left')\n",
        "plt.show()\n",
        "\n",
        "# Plot training & validation loss values\n",
        "plt.plot(history.history['loss'])\n",
        "plt.plot(history.history['val_loss'])\n",
        "plt.title('Model loss')\n",
        "plt.ylabel('Loss')\n",
        "plt.xlabel('Epoch')\n",
        "plt.legend(['Train', 'Test'], loc='upper left')\n",
        "plt.show()"
      ],
      "execution_count": 26,
      "outputs": [
        {
          "output_type": "display_data",
          "data": {
            "image/png": "[encoded data removed]",
            "text/plain": [
              "<Figure size 432x288 with 1 Axes>"
            ]
          },
          "metadata": {
            "tags": []
          }
        },
        {
          "output_type": "display_data",
          "data": {
            "image/png": "[encoded data removed]",
            "text/plain": [
              "<Figure size 432x288 with 1 Axes>"
            ]
          },
          "metadata": {
            "tags": []
          }
        }
      ]
    },
    {
      "cell_type": "code",
      "metadata": {
        "id": "xpClKfyYsBno",
        "colab_type": "code",
        "colab": {}
      },
      "source": [
        ""
      ],
      "execution_count": 0,
      "outputs": []
    }
  ]
}